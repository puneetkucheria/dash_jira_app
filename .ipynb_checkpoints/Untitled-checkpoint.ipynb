{
 "cells": [
  {
   "cell_type": "code",
   "execution_count": 1,
   "metadata": {},
   "outputs": [
    {
     "name": "stderr",
     "output_type": "stream",
     "text": [
      "/home/puneetkucheria/.local/lib/python3.6/site-packages/ipykernel_launcher.py:6: YAMLLoadWarning: calling yaml.load() without Loader=... is deprecated, as the default Loader is unsafe. Please read https://msg.pyyaml.org/load for full details.\n",
      "  \n"
     ]
    }
   ],
   "source": [
    "from jira import JIRA\n",
    "import yaml\n",
    "import pandas as pd\n",
    "\n",
    "with open(\"conf.yml\",\"r\") as ymlfile:\n",
    "    config = yaml.load(ymlfile)\n",
    "    \n",
    "con = JIRA(config['jira_site'], auth=(config['user'], config['pass']))\n"
   ]
  },
  {
   "cell_type": "code",
   "execution_count": 13,
   "metadata": {},
   "outputs": [],
   "source": [
    "df=pd.DataFrame(([issue.fields.project.name, issue.key, issue.fields.summary] for issue in con.search_issues(\"project = 'PMPM19000'\"))  , columns=['project','issue_id','issue'])"
   ]
  },
  {
   "cell_type": "code",
   "execution_count": 3,
   "metadata": {},
   "outputs": [
    {
     "data": {
      "text/plain": [
       "project     1\n",
       "issue_id    1\n",
       "issue       1\n",
       "dtype: int64"
      ]
     },
     "execution_count": 3,
     "metadata": {},
     "output_type": "execute_result"
    }
   ],
   "source": [
    "df[df['issue_id'].str.contains('21')==True].count()"
   ]
  },
  {
   "cell_type": "code",
   "execution_count": 4,
   "metadata": {},
   "outputs": [],
   "source": [
    "project='PMPM19000'"
   ]
  },
  {
   "cell_type": "code",
   "execution_count": 5,
   "metadata": {},
   "outputs": [],
   "source": [
    "df=pd.DataFrame(([issue.fields.project.name, issue.key, issue.fields.summary, issue.fields.status] for issue in con.search_issues(\"project = \"+project)))"
   ]
  },
  {
   "cell_type": "code",
   "execution_count": 10,
   "metadata": {},
   "outputs": [
    {
     "name": "stdout",
     "output_type": "stream",
     "text": [
      "<generator object <genexpr> at 0x7f580da6ea40>\n"
     ]
    }
   ],
   "source": [
    "print(i for i in df.columns)"
   ]
  },
  {
   "cell_type": "code",
   "execution_count": 21,
   "metadata": {},
   "outputs": [
    {
     "name": "stdout",
     "output_type": "stream",
     "text": [
      "project\n",
      "issue_id\n",
      "issue\n"
     ]
    }
   ],
   "source": [
    "for col in df.columns:\n",
    "    print(col)\n"
   ]
  },
  {
   "cell_type": "code",
   "execution_count": 22,
   "metadata": {},
   "outputs": [
    {
     "data": {
      "text/html": [
       "<div>\n",
       "<style scoped>\n",
       "    .dataframe tbody tr th:only-of-type {\n",
       "        vertical-align: middle;\n",
       "    }\n",
       "\n",
       "    .dataframe tbody tr th {\n",
       "        vertical-align: top;\n",
       "    }\n",
       "\n",
       "    .dataframe thead th {\n",
       "        text-align: right;\n",
       "    }\n",
       "</style>\n",
       "<table border=\"1\" class=\"dataframe\">\n",
       "  <thead>\n",
       "    <tr style=\"text-align: right;\">\n",
       "      <th></th>\n",
       "      <th>project</th>\n",
       "      <th>issue_id</th>\n",
       "      <th>issue</th>\n",
       "    </tr>\n",
       "  </thead>\n",
       "  <tbody>\n",
       "    <tr>\n",
       "      <th>0</th>\n",
       "      <td>JIRA and Confluence Upkeeping</td>\n",
       "      <td>PMPM19000-21</td>\n",
       "      <td>JIRA Confluence Test Instance is Down</td>\n",
       "    </tr>\n",
       "    <tr>\n",
       "      <th>1</th>\n",
       "      <td>JIRA and Confluence Upkeeping</td>\n",
       "      <td>PMPM19000-20</td>\n",
       "      <td>JIRA Test Instance License Expiration on Jun 9...</td>\n",
       "    </tr>\n",
       "    <tr>\n",
       "      <th>2</th>\n",
       "      <td>JIRA and Confluence Upkeeping</td>\n",
       "      <td>PMPM19000-19</td>\n",
       "      <td>Confluence: License Expired for PROD</td>\n",
       "    </tr>\n",
       "    <tr>\n",
       "      <th>3</th>\n",
       "      <td>JIRA and Confluence Upkeeping</td>\n",
       "      <td>PMPM19000-17</td>\n",
       "      <td>Error in UI when linking a confluence page wit...</td>\n",
       "    </tr>\n",
       "    <tr>\n",
       "      <th>4</th>\n",
       "      <td>JIRA and Confluence Upkeeping</td>\n",
       "      <td>PMPM19000-16</td>\n",
       "      <td>Not able to Import data in EAZY BI PLugin</td>\n",
       "    </tr>\n",
       "    <tr>\n",
       "      <th>5</th>\n",
       "      <td>JIRA and Confluence Upkeeping</td>\n",
       "      <td>PMPM19000-15</td>\n",
       "      <td>Unable to change priority in KanbanBoard</td>\n",
       "    </tr>\n",
       "    <tr>\n",
       "      <th>6</th>\n",
       "      <td>JIRA and Confluence Upkeeping</td>\n",
       "      <td>PMPM19000-14</td>\n",
       "      <td>Provisioning of Dev Environment</td>\n",
       "    </tr>\n",
       "    <tr>\n",
       "      <th>7</th>\n",
       "      <td>JIRA and Confluence Upkeeping</td>\n",
       "      <td>PMPM19000-13</td>\n",
       "      <td>Page Editor not working in Confluence</td>\n",
       "    </tr>\n",
       "    <tr>\n",
       "      <th>8</th>\n",
       "      <td>JIRA and Confluence Upkeeping</td>\n",
       "      <td>PMPM19000-11</td>\n",
       "      <td>EAZY BI &amp; Portfolio Plugin License Renewal</td>\n",
       "    </tr>\n",
       "    <tr>\n",
       "      <th>9</th>\n",
       "      <td>JIRA and Confluence Upkeeping</td>\n",
       "      <td>PMPM19000-10</td>\n",
       "      <td>Need to Remove \"Developers\" from Project Roles</td>\n",
       "    </tr>\n",
       "    <tr>\n",
       "      <th>10</th>\n",
       "      <td>JIRA and Confluence Upkeeping</td>\n",
       "      <td>PMPM19000-9</td>\n",
       "      <td>Project Scrum Board Throws error on switching ...</td>\n",
       "    </tr>\n",
       "    <tr>\n",
       "      <th>11</th>\n",
       "      <td>JIRA and Confluence Upkeeping</td>\n",
       "      <td>PMPM19000-8</td>\n",
       "      <td>Unable to create pages in confluence</td>\n",
       "    </tr>\n",
       "    <tr>\n",
       "      <th>12</th>\n",
       "      <td>JIRA and Confluence Upkeeping</td>\n",
       "      <td>PMPM19000-7</td>\n",
       "      <td>System Response time is very slow</td>\n",
       "    </tr>\n",
       "    <tr>\n",
       "      <th>13</th>\n",
       "      <td>JIRA and Confluence Upkeeping</td>\n",
       "      <td>PMPM19000-6</td>\n",
       "      <td>Confluence: Cannot create Software Project Spa...</td>\n",
       "    </tr>\n",
       "    <tr>\n",
       "      <th>14</th>\n",
       "      <td>JIRA and Confluence Upkeeping</td>\n",
       "      <td>PMPM19000-5</td>\n",
       "      <td>Software License Expiration</td>\n",
       "    </tr>\n",
       "    <tr>\n",
       "      <th>15</th>\n",
       "      <td>JIRA and Confluence Upkeeping</td>\n",
       "      <td>PMPM19000-4</td>\n",
       "      <td>Error in Creation of Custom Field/Release</td>\n",
       "    </tr>\n",
       "    <tr>\n",
       "      <th>16</th>\n",
       "      <td>JIRA and Confluence Upkeeping</td>\n",
       "      <td>PMPM19000-3</td>\n",
       "      <td>Cannot Attach Files to User Stories</td>\n",
       "    </tr>\n",
       "    <tr>\n",
       "      <th>17</th>\n",
       "      <td>JIRA and Confluence Upkeeping</td>\n",
       "      <td>PMPM19000-2</td>\n",
       "      <td>Cannot Import user stories in JIRA using Importer</td>\n",
       "    </tr>\n",
       "    <tr>\n",
       "      <th>18</th>\n",
       "      <td>JIRA and Confluence Upkeeping</td>\n",
       "      <td>PMPM19000-1</td>\n",
       "      <td>Release Not being Created</td>\n",
       "    </tr>\n",
       "  </tbody>\n",
       "</table>\n",
       "</div>"
      ],
      "text/plain": [
       "                          project      issue_id  \\\n",
       "0   JIRA and Confluence Upkeeping  PMPM19000-21   \n",
       "1   JIRA and Confluence Upkeeping  PMPM19000-20   \n",
       "2   JIRA and Confluence Upkeeping  PMPM19000-19   \n",
       "3   JIRA and Confluence Upkeeping  PMPM19000-17   \n",
       "4   JIRA and Confluence Upkeeping  PMPM19000-16   \n",
       "5   JIRA and Confluence Upkeeping  PMPM19000-15   \n",
       "6   JIRA and Confluence Upkeeping  PMPM19000-14   \n",
       "7   JIRA and Confluence Upkeeping  PMPM19000-13   \n",
       "8   JIRA and Confluence Upkeeping  PMPM19000-11   \n",
       "9   JIRA and Confluence Upkeeping  PMPM19000-10   \n",
       "10  JIRA and Confluence Upkeeping   PMPM19000-9   \n",
       "11  JIRA and Confluence Upkeeping   PMPM19000-8   \n",
       "12  JIRA and Confluence Upkeeping   PMPM19000-7   \n",
       "13  JIRA and Confluence Upkeeping   PMPM19000-6   \n",
       "14  JIRA and Confluence Upkeeping   PMPM19000-5   \n",
       "15  JIRA and Confluence Upkeeping   PMPM19000-4   \n",
       "16  JIRA and Confluence Upkeeping   PMPM19000-3   \n",
       "17  JIRA and Confluence Upkeeping   PMPM19000-2   \n",
       "18  JIRA and Confluence Upkeeping   PMPM19000-1   \n",
       "\n",
       "                                                issue  \n",
       "0               JIRA Confluence Test Instance is Down  \n",
       "1   JIRA Test Instance License Expiration on Jun 9...  \n",
       "2                Confluence: License Expired for PROD  \n",
       "3   Error in UI when linking a confluence page wit...  \n",
       "4           Not able to Import data in EAZY BI PLugin  \n",
       "5            Unable to change priority in KanbanBoard  \n",
       "6                     Provisioning of Dev Environment  \n",
       "7               Page Editor not working in Confluence  \n",
       "8          EAZY BI & Portfolio Plugin License Renewal  \n",
       "9      Need to Remove \"Developers\" from Project Roles  \n",
       "10  Project Scrum Board Throws error on switching ...  \n",
       "11               Unable to create pages in confluence  \n",
       "12                  System Response time is very slow  \n",
       "13  Confluence: Cannot create Software Project Spa...  \n",
       "14                        Software License Expiration  \n",
       "15          Error in Creation of Custom Field/Release  \n",
       "16                Cannot Attach Files to User Stories  \n",
       "17  Cannot Import user stories in JIRA using Importer  \n",
       "18                          Release Not being Created  "
      ]
     },
     "execution_count": 22,
     "metadata": {},
     "output_type": "execute_result"
    }
   ],
   "source": [
    "df"
   ]
  },
  {
   "cell_type": "code",
   "execution_count": 24,
   "metadata": {},
   "outputs": [],
   "source": [
    "issues = con.search_issues(\"project = \"+project)"
   ]
  },
  {
   "cell_type": "code",
   "execution_count": null,
   "metadata": {},
   "outputs": [],
   "source": []
  }
 ],
 "metadata": {
  "kernelspec": {
   "display_name": "Python 3",
   "language": "python",
   "name": "python3"
  },
  "language_info": {
   "codemirror_mode": {
    "name": "ipython",
    "version": 3
   },
   "file_extension": ".py",
   "mimetype": "text/x-python",
   "name": "python",
   "nbconvert_exporter": "python",
   "pygments_lexer": "ipython3",
   "version": "3.6.8"
  }
 },
 "nbformat": 4,
 "nbformat_minor": 2
}
