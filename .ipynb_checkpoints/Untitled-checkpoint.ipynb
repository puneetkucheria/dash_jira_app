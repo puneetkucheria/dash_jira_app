{
 "cells": [
  {
   "cell_type": "code",
   "execution_count": 1,
   "metadata": {},
   "outputs": [
    {
     "name": "stderr",
     "output_type": "stream",
     "text": [
      "/home/puneetkucheria/.local/lib/python3.6/site-packages/ipykernel_launcher.py:6: YAMLLoadWarning: calling yaml.load() without Loader=... is deprecated, as the default Loader is unsafe. Please read https://msg.pyyaml.org/load for full details.\n",
      "  \n"
     ]
    }
   ],
   "source": [
    "from jira import JIRA\n",
    "import yaml\n",
    "import pandas as pd\n",
    "\n",
    "with open(\"conf.yml\",\"r\") as ymlfile:\n",
    "    config = yaml.load(ymlfile)\n",
    "    \n",
    "con = JIRA(config['jira_site'], auth=(config['user'], config['pass']))\n"
   ]
  },
  {
   "cell_type": "code",
   "execution_count": 23,
   "metadata": {},
   "outputs": [],
   "source": [
    "issues=con.issue('RMMK19001-4')"
   ]
  },
  {
   "cell_type": "code",
   "execution_count": 104,
   "metadata": {},
   "outputs": [],
   "source": [
    "import re\n",
    "Sprint_name = re.compile('name=(.+),star')\n",
    "Sprint_state = re.compile('state=(.+),name')"
   ]
  },
  {
   "cell_type": "code",
   "execution_count": 106,
   "metadata": {},
   "outputs": [
    {
     "name": "stdout",
     "output_type": "stream",
     "text": [
      "[['Aviation Sprint 1', 'CLOSED'], ['Aviation Sprint 2', 'ACTIVE']]\n"
     ]
    }
   ],
   "source": [
    "status=[[Sprint_name.search(sprint)[0][5:-5],Sprint_state.search(sprint)[0][6:-5]] for sprint in issues.fields.customfield_10101]\n",
    "print(status)"
   ]
  },
  {
   "cell_type": "code",
   "execution_count": null,
   "metadata": {},
   "outputs": [],
   "source": []
  },
  {
   "cell_type": "code",
   "execution_count": 87,
   "metadata": {},
   "outputs": [
    {
     "data": {
      "text/plain": [
       "['com.atlassian.greenhopper.service.sprint.Sprint@24b0612a[id=1,rapidViewId=61,state=CLOSED,name=Aviation Sprint 1,startDate=2019-04-22T10:12:43.080+05:30,endDate=2019-05-06T10:12:00.000+05:30,completeDate=2019-05-07T14:06:56.227+05:30,sequence=1,goal=User Authentication, Configuration]',\n",
       " 'com.atlassian.greenhopper.service.sprint.Sprint@2235b5d[id=25,rapidViewId=61,state=ACTIVE,name=Aviation Sprint 2,startDate=2019-05-06T15:32:48.939+05:30,endDate=2019-05-20T15:32:00.000+05:30,completeDate=<null>,sequence=25,goal=User Authentication and Import and export of data with RAOS and POS system]']"
      ]
     },
     "execution_count": 87,
     "metadata": {},
     "output_type": "execute_result"
    }
   ],
   "source": [
    "issues.fields.customfield_10101"
   ]
  },
  {
   "cell_type": "code",
   "execution_count": 2,
   "metadata": {},
   "outputs": [],
   "source": [
    "df=pd.DataFrame(([issue.fields.project.name, issue.key, issue.fields.issuetype.name] for issue in con.search_issues(\"project = 'CECE19004'\"))  , columns=['project','issue_id','issue'])"
   ]
  },
  {
   "cell_type": "code",
   "execution_count": 5,
   "metadata": {},
   "outputs": [],
   "source": [
    "oneone = df[df['issue_id'].str.contains('21')==True]"
   ]
  },
  {
   "cell_type": "code",
   "execution_count": 6,
   "metadata": {},
   "outputs": [
    {
     "data": {
      "text/html": [
       "<div>\n",
       "<style scoped>\n",
       "    .dataframe tbody tr th:only-of-type {\n",
       "        vertical-align: middle;\n",
       "    }\n",
       "\n",
       "    .dataframe tbody tr th {\n",
       "        vertical-align: top;\n",
       "    }\n",
       "\n",
       "    .dataframe thead th {\n",
       "        text-align: right;\n",
       "    }\n",
       "</style>\n",
       "<table border=\"1\" class=\"dataframe\">\n",
       "  <thead>\n",
       "    <tr style=\"text-align: right;\">\n",
       "      <th></th>\n",
       "      <th>project</th>\n",
       "      <th>issue_id</th>\n",
       "      <th>issue</th>\n",
       "    </tr>\n",
       "  </thead>\n",
       "  <tbody>\n",
       "    <tr>\n",
       "      <th>49</th>\n",
       "      <td>Datalake</td>\n",
       "      <td>CECE19004-121</td>\n",
       "      <td>Story</td>\n",
       "    </tr>\n",
       "  </tbody>\n",
       "</table>\n",
       "</div>"
      ],
      "text/plain": [
       "     project       issue_id  issue\n",
       "49  Datalake  CECE19004-121  Story"
      ]
     },
     "execution_count": 6,
     "metadata": {},
     "output_type": "execute_result"
    }
   ],
   "source": [
    "oneone"
   ]
  },
  {
   "cell_type": "code",
   "execution_count": 4,
   "metadata": {},
   "outputs": [],
   "source": [
    "project='PMPM19000'"
   ]
  },
  {
   "cell_type": "code",
   "execution_count": 53,
   "metadata": {},
   "outputs": [],
   "source": [
    "df=pd.DataFrame(([issue.fields.project.name, issue.key, issue.fields.summary, issue.fields.status] for issue in con.search_issues(\"project = \"+project)))"
   ]
  },
  {
   "cell_type": "code",
   "execution_count": 54,
   "metadata": {},
   "outputs": [
    {
     "name": "stdout",
     "output_type": "stream",
     "text": [
      "<generator object <genexpr> at 0x7f580d78b830>\n"
     ]
    }
   ],
   "source": [
    "print(i for i in df.columns)"
   ]
  },
  {
   "cell_type": "code",
   "execution_count": 55,
   "metadata": {},
   "outputs": [
    {
     "name": "stdout",
     "output_type": "stream",
     "text": [
      "0\n",
      "1\n",
      "2\n",
      "3\n"
     ]
    }
   ],
   "source": [
    "for col in df.columns:\n",
    "    print(col)\n"
   ]
  },
  {
   "cell_type": "code",
   "execution_count": 57,
   "metadata": {},
   "outputs": [
    {
     "data": {
      "text/html": [
       "<div>\n",
       "<style scoped>\n",
       "    .dataframe tbody tr th:only-of-type {\n",
       "        vertical-align: middle;\n",
       "    }\n",
       "\n",
       "    .dataframe tbody tr th {\n",
       "        vertical-align: top;\n",
       "    }\n",
       "\n",
       "    .dataframe thead th {\n",
       "        text-align: right;\n",
       "    }\n",
       "</style>\n",
       "<table border=\"1\" class=\"dataframe\">\n",
       "  <thead>\n",
       "    <tr style=\"text-align: right;\">\n",
       "      <th></th>\n",
       "      <th>project</th>\n",
       "      <th>issue_id</th>\n",
       "      <th>issue</th>\n",
       "    </tr>\n",
       "  </thead>\n",
       "  <tbody>\n",
       "    <tr>\n",
       "      <th>0</th>\n",
       "      <td>JIRA and Confluence Upkeeping</td>\n",
       "      <td>PMPM19000-21</td>\n",
       "      <td>Story</td>\n",
       "    </tr>\n",
       "    <tr>\n",
       "      <th>1</th>\n",
       "      <td>JIRA and Confluence Upkeeping</td>\n",
       "      <td>PMPM19000-20</td>\n",
       "      <td>Story</td>\n",
       "    </tr>\n",
       "    <tr>\n",
       "      <th>2</th>\n",
       "      <td>JIRA and Confluence Upkeeping</td>\n",
       "      <td>PMPM19000-19</td>\n",
       "      <td>Story</td>\n",
       "    </tr>\n",
       "    <tr>\n",
       "      <th>3</th>\n",
       "      <td>JIRA and Confluence Upkeeping</td>\n",
       "      <td>PMPM19000-17</td>\n",
       "      <td>Story</td>\n",
       "    </tr>\n",
       "    <tr>\n",
       "      <th>4</th>\n",
       "      <td>JIRA and Confluence Upkeeping</td>\n",
       "      <td>PMPM19000-16</td>\n",
       "      <td>Story</td>\n",
       "    </tr>\n",
       "    <tr>\n",
       "      <th>5</th>\n",
       "      <td>JIRA and Confluence Upkeeping</td>\n",
       "      <td>PMPM19000-15</td>\n",
       "      <td>Story</td>\n",
       "    </tr>\n",
       "    <tr>\n",
       "      <th>6</th>\n",
       "      <td>JIRA and Confluence Upkeeping</td>\n",
       "      <td>PMPM19000-14</td>\n",
       "      <td>Story</td>\n",
       "    </tr>\n",
       "    <tr>\n",
       "      <th>7</th>\n",
       "      <td>JIRA and Confluence Upkeeping</td>\n",
       "      <td>PMPM19000-13</td>\n",
       "      <td>Story</td>\n",
       "    </tr>\n",
       "    <tr>\n",
       "      <th>8</th>\n",
       "      <td>JIRA and Confluence Upkeeping</td>\n",
       "      <td>PMPM19000-11</td>\n",
       "      <td>Story</td>\n",
       "    </tr>\n",
       "    <tr>\n",
       "      <th>9</th>\n",
       "      <td>JIRA and Confluence Upkeeping</td>\n",
       "      <td>PMPM19000-10</td>\n",
       "      <td>Story</td>\n",
       "    </tr>\n",
       "    <tr>\n",
       "      <th>10</th>\n",
       "      <td>JIRA and Confluence Upkeeping</td>\n",
       "      <td>PMPM19000-9</td>\n",
       "      <td>Story</td>\n",
       "    </tr>\n",
       "    <tr>\n",
       "      <th>11</th>\n",
       "      <td>JIRA and Confluence Upkeeping</td>\n",
       "      <td>PMPM19000-8</td>\n",
       "      <td>Story</td>\n",
       "    </tr>\n",
       "    <tr>\n",
       "      <th>12</th>\n",
       "      <td>JIRA and Confluence Upkeeping</td>\n",
       "      <td>PMPM19000-7</td>\n",
       "      <td>Story</td>\n",
       "    </tr>\n",
       "    <tr>\n",
       "      <th>13</th>\n",
       "      <td>JIRA and Confluence Upkeeping</td>\n",
       "      <td>PMPM19000-6</td>\n",
       "      <td>Story</td>\n",
       "    </tr>\n",
       "    <tr>\n",
       "      <th>14</th>\n",
       "      <td>JIRA and Confluence Upkeeping</td>\n",
       "      <td>PMPM19000-5</td>\n",
       "      <td>Story</td>\n",
       "    </tr>\n",
       "    <tr>\n",
       "      <th>15</th>\n",
       "      <td>JIRA and Confluence Upkeeping</td>\n",
       "      <td>PMPM19000-4</td>\n",
       "      <td>Story</td>\n",
       "    </tr>\n",
       "    <tr>\n",
       "      <th>16</th>\n",
       "      <td>JIRA and Confluence Upkeeping</td>\n",
       "      <td>PMPM19000-3</td>\n",
       "      <td>Story</td>\n",
       "    </tr>\n",
       "    <tr>\n",
       "      <th>17</th>\n",
       "      <td>JIRA and Confluence Upkeeping</td>\n",
       "      <td>PMPM19000-2</td>\n",
       "      <td>Story</td>\n",
       "    </tr>\n",
       "    <tr>\n",
       "      <th>18</th>\n",
       "      <td>JIRA and Confluence Upkeeping</td>\n",
       "      <td>PMPM19000-1</td>\n",
       "      <td>Story</td>\n",
       "    </tr>\n",
       "  </tbody>\n",
       "</table>\n",
       "</div>"
      ],
      "text/plain": [
       "                          project      issue_id  issue\n",
       "0   JIRA and Confluence Upkeeping  PMPM19000-21  Story\n",
       "1   JIRA and Confluence Upkeeping  PMPM19000-20  Story\n",
       "2   JIRA and Confluence Upkeeping  PMPM19000-19  Story\n",
       "3   JIRA and Confluence Upkeeping  PMPM19000-17  Story\n",
       "4   JIRA and Confluence Upkeeping  PMPM19000-16  Story\n",
       "5   JIRA and Confluence Upkeeping  PMPM19000-15  Story\n",
       "6   JIRA and Confluence Upkeeping  PMPM19000-14  Story\n",
       "7   JIRA and Confluence Upkeeping  PMPM19000-13  Story\n",
       "8   JIRA and Confluence Upkeeping  PMPM19000-11  Story\n",
       "9   JIRA and Confluence Upkeeping  PMPM19000-10  Story\n",
       "10  JIRA and Confluence Upkeeping   PMPM19000-9  Story\n",
       "11  JIRA and Confluence Upkeeping   PMPM19000-8  Story\n",
       "12  JIRA and Confluence Upkeeping   PMPM19000-7  Story\n",
       "13  JIRA and Confluence Upkeeping   PMPM19000-6  Story\n",
       "14  JIRA and Confluence Upkeeping   PMPM19000-5  Story\n",
       "15  JIRA and Confluence Upkeeping   PMPM19000-4  Story\n",
       "16  JIRA and Confluence Upkeeping   PMPM19000-3  Story\n",
       "17  JIRA and Confluence Upkeeping   PMPM19000-2  Story\n",
       "18  JIRA and Confluence Upkeeping   PMPM19000-1  Story"
      ]
     },
     "execution_count": 57,
     "metadata": {},
     "output_type": "execute_result"
    }
   ],
   "source": [
    "df"
   ]
  },
  {
   "cell_type": "code",
   "execution_count": 64,
   "metadata": {},
   "outputs": [],
   "source": [
    "df = pd.DataFrame(con.search_issues(\"project = 'CECE19004'\"))"
   ]
  },
  {
   "cell_type": "code",
   "execution_count": 86,
   "metadata": {},
   "outputs": [
    {
     "data": {
      "text/html": [
       "<div>\n",
       "<style scoped>\n",
       "    .dataframe tbody tr th:only-of-type {\n",
       "        vertical-align: middle;\n",
       "    }\n",
       "\n",
       "    .dataframe tbody tr th {\n",
       "        vertical-align: top;\n",
       "    }\n",
       "\n",
       "    .dataframe thead th {\n",
       "        text-align: right;\n",
       "    }\n",
       "</style>\n",
       "<table border=\"1\" class=\"dataframe\">\n",
       "  <thead>\n",
       "    <tr style=\"text-align: right;\">\n",
       "      <th></th>\n",
       "      <th>Story Type</th>\n",
       "      <th>Issue Count</th>\n",
       "    </tr>\n",
       "  </thead>\n",
       "  <tbody>\n",
       "    <tr>\n",
       "      <th>Story</th>\n",
       "      <td>Story</td>\n",
       "      <td>33</td>\n",
       "    </tr>\n",
       "    <tr>\n",
       "      <th>Bug</th>\n",
       "      <td>Bug</td>\n",
       "      <td>12</td>\n",
       "    </tr>\n",
       "    <tr>\n",
       "      <th>Sub-task</th>\n",
       "      <td>Sub-task</td>\n",
       "      <td>5</td>\n",
       "    </tr>\n",
       "  </tbody>\n",
       "</table>\n",
       "</div>"
      ],
      "text/plain": [
       "         Story Type  Issue Count\n",
       "Story         Story           33\n",
       "Bug             Bug           12\n",
       "Sub-task   Sub-task            5"
      ]
     },
     "execution_count": 86,
     "metadata": {},
     "output_type": "execute_result"
    }
   ],
   "source": [
    "a=pd.DataFrame(df['issue'].value_counts())\n",
    "a['Story Type']=a.index\n",
    "a['Issue Count']=a['issue']\n",
    "a=a.drop('issue', axis=1)\n",
    "a"
   ]
  },
  {
   "cell_type": "code",
   "execution_count": null,
   "metadata": {},
   "outputs": [],
   "source": []
  }
 ],
 "metadata": {
  "kernelspec": {
   "display_name": "Python 3",
   "language": "python",
   "name": "python3"
  },
  "language_info": {
   "codemirror_mode": {
    "name": "ipython",
    "version": 3
   },
   "file_extension": ".py",
   "mimetype": "text/x-python",
   "name": "python",
   "nbconvert_exporter": "python",
   "pygments_lexer": "ipython3",
   "version": "3.6.8"
  }
 },
 "nbformat": 4,
 "nbformat_minor": 2
}
