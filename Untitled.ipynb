{
 "cells": [
  {
   "cell_type": "code",
   "execution_count": 1,
   "metadata": {},
   "outputs": [
    {
     "name": "stderr",
     "output_type": "stream",
     "text": [
      "/home/puneetkucheria/.local/lib/python3.6/site-packages/ipykernel_launcher.py:6: YAMLLoadWarning: calling yaml.load() without Loader=... is deprecated, as the default Loader is unsafe. Please read https://msg.pyyaml.org/load for full details.\n",
      "  \n"
     ]
    }
   ],
   "source": [
    "from jira import JIRA\n",
    "import yaml\n",
    "import pandas as pd\n",
    "\n",
    "with open(\"conf.yml\",\"r\") as ymlfile:\n",
    "    config = yaml.load(ymlfile)\n",
    "    \n",
    "con = JIRA(config['jira_site'], auth=(config['user'], config['pass']))\n"
   ]
  },
  {
   "cell_type": "code",
   "execution_count": 158,
   "metadata": {},
   "outputs": [],
   "source": [
    "issue=con.issue('RMMK19001-4')"
   ]
  },
  {
   "cell_type": "code",
   "execution_count": 176,
   "metadata": {},
   "outputs": [
    {
     "data": {
      "text/plain": [
       "0    Aviation Sprint 2\n",
       "Name: Sprint, dtype: object"
      ]
     },
     "execution_count": 176,
     "metadata": {},
     "output_type": "execute_result"
    }
   ],
   "source": [
    "import re\n",
    "sprint_name = re.compile('name=(.+),star')\n",
    "sprint_state = re.compile('state=(.+),name')\n",
    "status=[[sprint_name.search(sprint)[0][5:-5],Sprint_state.search(sprint)[0][6:-5]] for sprint in issue.fields.customfield_10101]\n",
    "sprint_df =pd.DataFrame(status, columns=['Sprint','State'])\n",
    "sprint_df[sprint_df['State']=='ACTIVE']['Sprint'].reset_index(drop=True)"
   ]
  },
  {
   "cell_type": "code",
   "execution_count": 162,
   "metadata": {},
   "outputs": [
    {
     "name": "stdout",
     "output_type": "stream",
     "text": [
      "[['Aviation Sprint 1', 'CLOSED'], ['Aviation Sprint 2', 'ACTIVE']]\n"
     ]
    }
   ],
   "source": [
    "status=[[sprint_name.search(sprint)[0][5:-5],sprint_state.search(sprint)[0][6:-5]] for sprint in issues.fields.customfield_10101]\n",
    "print(status)"
   ]
  },
  {
   "cell_type": "code",
   "execution_count": 190,
   "metadata": {},
   "outputs": [
    {
     "data": {
      "text/plain": [
       "mappingproxy({'issuetype': <JIRA IssueType: name='Story', id='10001'>,\n",
       "              'timespent': None,\n",
       "              'project': <JIRA Project: key='RMMK19001', name='AviationPosMigrationAndEnhancements', id='10302'>,\n",
       "              'fixVersions': [<JIRA Version: name='Aviation POS release 1 ', id='10200'>],\n",
       "              'customfield_10110': None,\n",
       "              'customfield_10111': None,\n",
       "              'aggregatetimespent': None,\n",
       "              'resolution': <JIRA Resolution: name='Done', id='10000'>,\n",
       "              'customfield_10310': None,\n",
       "              'customfield_10311': None,\n",
       "              'customfield_10510': None,\n",
       "              'customfield_10226': None,\n",
       "              'customfield_10501': None,\n",
       "              'customfield_10106': 3.0,\n",
       "              'customfield_10107': None,\n",
       "              'customfield_10108': None,\n",
       "              'customfield_10109': None,\n",
       "              'customfield_10505': None,\n",
       "              'customfield_10308': None,\n",
       "              'customfield_10506': None,\n",
       "              'resolutiondate': '2019-05-09T17:05:21.000+0530',\n",
       "              'customfield_10507': None,\n",
       "              'customfield_10508': None,\n",
       "              'customfield_10509': None,\n",
       "              'workratio': -1,\n",
       "              'lastViewed': '2019-04-30T15:13:43.520+0530',\n",
       "              'watches': <JIRA Watchers at 139868555574464>,\n",
       "              'created': '2019-04-24T14:45:07.000+0530',\n",
       "              'customfield_10220': None,\n",
       "              'priority': <JIRA Priority: name='Medium', id='3'>,\n",
       "              'customfield_10100': '0|i000s7:',\n",
       "              'customfield_10101': ['com.atlassian.greenhopper.service.sprint.Sprint@24b0612a[id=1,rapidViewId=61,state=CLOSED,name=Aviation Sprint 1,startDate=2019-04-22T10:12:43.080+05:30,endDate=2019-05-06T10:12:00.000+05:30,completeDate=2019-05-07T14:06:56.227+05:30,sequence=1,goal=User Authentication, Configuration]',\n",
       "               'com.atlassian.greenhopper.service.sprint.Sprint@2235b5d[id=25,rapidViewId=61,state=ACTIVE,name=Aviation Sprint 2,startDate=2019-05-06T15:32:48.939+05:30,endDate=2019-05-20T15:32:00.000+05:30,completeDate=<null>,sequence=25,goal=User Authentication and Import and export of data with RAOS and POS system]'],\n",
       "              'customfield_10102': 'RMMK19001-1',\n",
       "              'labels': [],\n",
       "              'customfield_10214': None,\n",
       "              'customfield_10215': None,\n",
       "              'customfield_10216': None,\n",
       "              'customfield_10217': None,\n",
       "              'customfield_10218': None,\n",
       "              'timeestimate': None,\n",
       "              'aggregatetimeoriginalestimate': None,\n",
       "              'versions': [],\n",
       "              'issuelinks': [],\n",
       "              'assignee': <JIRA User: displayName='Vijay Batakurki (Consultant)', key='vijay.batakurki', name='Vijay.Batakurki'>,\n",
       "              'updated': '2019-05-09T17:05:21.000+0530',\n",
       "              'status': <JIRA Status: name='Done', id='10001'>,\n",
       "              'components': [],\n",
       "              'timeoriginalestimate': None,\n",
       "              'description': 'As a Admin User, I am able to login into the application and make configuration settings',\n",
       "              'customfield_10210': None,\n",
       "              'customfield_10211': None,\n",
       "              'customfield_10212': None,\n",
       "              'timetracking': <JIRA TimeTracking at 139868555571776>,\n",
       "              'customfield_10213': None,\n",
       "              'customfield_10203': None,\n",
       "              'customfield_10401': None,\n",
       "              'customfield_10204': None,\n",
       "              'customfield_10402': None,\n",
       "              'customfield_10205': None,\n",
       "              'customfield_10206': None,\n",
       "              'attachment': [],\n",
       "              'customfield_10207': None,\n",
       "              'customfield_10801': None,\n",
       "              'aggregatetimeestimate': None,\n",
       "              'customfield_10208': None,\n",
       "              'customfield_10802': None,\n",
       "              'customfield_10209': None,\n",
       "              'customfield_10804': None,\n",
       "              'customfield_10606': None,\n",
       "              'customfield_10805': None,\n",
       "              'summary': 'As a Admin User, I am able to login into the application and make configuration settings.',\n",
       "              'creator': <JIRA User: displayName='Manisha More', key='manisha.more', name='Manisha.More'>,\n",
       "              'subtasks': [<JIRA Issue: key='RMMK19001-25', id='10752'>,\n",
       "               <JIRA Issue: key='RMMK19001-26', id='10753'>,\n",
       "               <JIRA Issue: key='RMMK19001-27', id='10754'>,\n",
       "               <JIRA Issue: key='RMMK19001-28', id='10755'>,\n",
       "               <JIRA Issue: key='RMMK19001-29', id='10756'>],\n",
       "              'reporter': <JIRA User: displayName='Manisha More', key='manisha.more', name='Manisha.More'>,\n",
       "              'customfield_10000': '{summaryBean=com.atlassian.jira.plugin.devstatus.rest.SummaryBean@74f40623[summary={pullrequest=com.atlassian.jira.plugin.devstatus.rest.SummaryItemBean@3999adc8[overall=PullRequestOverallBean{stateCount=0, state=\\'OPEN\\', details=PullRequestOverallDetails{openCount=0, mergedCount=0, declinedCount=0}},byInstanceType={}], build=com.atlassian.jira.plugin.devstatus.rest.SummaryItemBean@3d4944c1[overall=com.atlassian.jira.plugin.devstatus.summary.beans.BuildOverallBean@494a594d[failedBuildCount=0,successfulBuildCount=0,unknownBuildCount=0,count=0,lastUpdated=<null>,lastUpdatedTimestamp=<null>],byInstanceType={}], review=com.atlassian.jira.plugin.devstatus.rest.SummaryItemBean@4f4b17e6[overall=com.atlassian.jira.plugin.devstatus.summary.beans.ReviewsOverallBean@62a8fa62[stateCount=0,state=<null>,dueDate=<null>,overDue=false,count=0,lastUpdated=<null>,lastUpdatedTimestamp=<null>],byInstanceType={}], deployment-environment=com.atlassian.jira.plugin.devstatus.rest.SummaryItemBean@15b0c5ba[overall=com.atlassian.jira.plugin.devstatus.summary.beans.DeploymentOverallBean@eab6670[topEnvironments=[],showProjects=false,successfulCount=0,count=0,lastUpdated=<null>,lastUpdatedTimestamp=<null>],byInstanceType={}], repository=com.atlassian.jira.plugin.devstatus.rest.SummaryItemBean@1948b464[overall=com.atlassian.jira.plugin.devstatus.summary.beans.CommitOverallBean@3c9626c5[count=0,lastUpdated=<null>,lastUpdatedTimestamp=<null>],byInstanceType={}], branch=com.atlassian.jira.plugin.devstatus.rest.SummaryItemBean@2f18b9f8[overall=com.atlassian.jira.plugin.devstatus.summary.beans.BranchOverallBean@7ad5d28d[count=0,lastUpdated=<null>,lastUpdatedTimestamp=<null>],byInstanceType={}]},errors=[],configErrors=[]], devSummaryJson={\"cachedValue\":{\"errors\":[],\"configErrors\":[],\"summary\":{\"pullrequest\":{\"overall\":{\"count\":0,\"lastUpdated\":null,\"stateCount\":0,\"state\":\"OPEN\",\"details\":{\"openCount\":0,\"mergedCount\":0,\"declinedCount\":0,\"total\":0},\"open\":true},\"byInstanceType\":{}},\"build\":{\"overall\":{\"count\":0,\"lastUpdated\":null,\"failedBuildCount\":0,\"successfulBuildCount\":0,\"unknownBuildCount\":0},\"byInstanceType\":{}},\"review\":{\"overall\":{\"count\":0,\"lastUpdated\":null,\"stateCount\":0,\"state\":null,\"dueDate\":null,\"overDue\":false,\"completed\":false},\"byInstanceType\":{}},\"deployment-environment\":{\"overall\":{\"count\":0,\"lastUpdated\":null,\"topEnvironments\":[],\"showProjects\":false,\"successfulCount\":0},\"byInstanceType\":{}},\"repository\":{\"overall\":{\"count\":0,\"lastUpdated\":null},\"byInstanceType\":{}},\"branch\":{\"overall\":{\"count\":0,\"lastUpdated\":null},\"byInstanceType\":{}}}},\"isStale\":false}}',\n",
       "              'aggregateprogress': jira.resources.PropertyHolder,\n",
       "              'customfield_10200': None,\n",
       "              'customfield_10201': None,\n",
       "              'customfield_10511': None,\n",
       "              'environment': None,\n",
       "              'duedate': None,\n",
       "              'progress': jira.resources.PropertyHolder,\n",
       "              'comment': jira.resources.PropertyHolder,\n",
       "              'votes': <JIRA Votes: votes=0>,\n",
       "              'worklog': jira.resources.PropertyHolder,\n",
       "              '__module__': 'jira.resources',\n",
       "              '__dict__': <attribute '__dict__' of 'PropertyHolder' objects>,\n",
       "              '__weakref__': <attribute '__weakref__' of 'PropertyHolder' objects>,\n",
       "              '__doc__': None})"
      ]
     },
     "execution_count": 190,
     "metadata": {},
     "output_type": "execute_result"
    }
   ],
   "source": [
    "issues.fields.__dict__"
   ]
  },
  {
   "cell_type": "code",
   "execution_count": 177,
   "metadata": {},
   "outputs": [
    {
     "data": {
      "text/html": [
       "<div>\n",
       "<style scoped>\n",
       "    .dataframe tbody tr th:only-of-type {\n",
       "        vertical-align: middle;\n",
       "    }\n",
       "\n",
       "    .dataframe tbody tr th {\n",
       "        vertical-align: top;\n",
       "    }\n",
       "\n",
       "    .dataframe thead th {\n",
       "        text-align: right;\n",
       "    }\n",
       "</style>\n",
       "<table border=\"1\" class=\"dataframe\">\n",
       "  <thead>\n",
       "    <tr style=\"text-align: right;\">\n",
       "      <th></th>\n",
       "      <th>Sprint</th>\n",
       "      <th>State</th>\n",
       "    </tr>\n",
       "  </thead>\n",
       "  <tbody>\n",
       "    <tr>\n",
       "      <th>1</th>\n",
       "      <td>Aviation Sprint 2</td>\n",
       "      <td>ACTIVE</td>\n",
       "    </tr>\n",
       "  </tbody>\n",
       "</table>\n",
       "</div>"
      ],
      "text/plain": [
       "              Sprint   State\n",
       "1  Aviation Sprint 2  ACTIVE"
      ]
     },
     "execution_count": 177,
     "metadata": {},
     "output_type": "execute_result"
    }
   ],
   "source": [
    "sprint_df =pd.DataFrame(status, columns=['Sprint','State'])\n",
    "sprint_df[sprint_df['State']=='ACTIVE']"
   ]
  },
  {
   "cell_type": "code",
   "execution_count": 187,
   "metadata": {},
   "outputs": [
    {
     "data": {
      "text/plain": [
       "'Aviation POS release 1 '"
      ]
     },
     "execution_count": 187,
     "metadata": {},
     "output_type": "execute_result"
    }
   ],
   "source": [
    "issues.fields.fixVersions[0].name"
   ]
  },
  {
   "cell_type": "code",
   "execution_count": 2,
   "metadata": {},
   "outputs": [],
   "source": [
    "df=pd.DataFrame(([issue.fields.project.name, issue.key, issue.fields.issuetype.name] for issue in con.search_issues(\"project = 'CECE19004'\"))  , columns=['project','issue_id','issue'])"
   ]
  },
  {
   "cell_type": "code",
   "execution_count": 5,
   "metadata": {},
   "outputs": [],
   "source": [
    "oneone = df[df['issue_id'].str.contains('21')==True]"
   ]
  },
  {
   "cell_type": "code",
   "execution_count": 6,
   "metadata": {},
   "outputs": [
    {
     "data": {
      "text/html": [
       "<div>\n",
       "<style scoped>\n",
       "    .dataframe tbody tr th:only-of-type {\n",
       "        vertical-align: middle;\n",
       "    }\n",
       "\n",
       "    .dataframe tbody tr th {\n",
       "        vertical-align: top;\n",
       "    }\n",
       "\n",
       "    .dataframe thead th {\n",
       "        text-align: right;\n",
       "    }\n",
       "</style>\n",
       "<table border=\"1\" class=\"dataframe\">\n",
       "  <thead>\n",
       "    <tr style=\"text-align: right;\">\n",
       "      <th></th>\n",
       "      <th>project</th>\n",
       "      <th>issue_id</th>\n",
       "      <th>issue</th>\n",
       "    </tr>\n",
       "  </thead>\n",
       "  <tbody>\n",
       "    <tr>\n",
       "      <th>49</th>\n",
       "      <td>Datalake</td>\n",
       "      <td>CECE19004-121</td>\n",
       "      <td>Story</td>\n",
       "    </tr>\n",
       "  </tbody>\n",
       "</table>\n",
       "</div>"
      ],
      "text/plain": [
       "     project       issue_id  issue\n",
       "49  Datalake  CECE19004-121  Story"
      ]
     },
     "execution_count": 6,
     "metadata": {},
     "output_type": "execute_result"
    }
   ],
   "source": [
    "oneone"
   ]
  },
  {
   "cell_type": "code",
   "execution_count": 4,
   "metadata": {},
   "outputs": [],
   "source": [
    "project='PMPM19000'"
   ]
  },
  {
   "cell_type": "code",
   "execution_count": 53,
   "metadata": {},
   "outputs": [],
   "source": [
    "df=pd.DataFrame(([issue.fields.project.name, issue.key, issue.fields.summary, issue.fields.status] for issue in con.search_issues(\"project = \"+project)))"
   ]
  },
  {
   "cell_type": "code",
   "execution_count": 54,
   "metadata": {},
   "outputs": [
    {
     "name": "stdout",
     "output_type": "stream",
     "text": [
      "<generator object <genexpr> at 0x7f580d78b830>\n"
     ]
    }
   ],
   "source": [
    "print(i for i in df.columns)"
   ]
  },
  {
   "cell_type": "code",
   "execution_count": 55,
   "metadata": {},
   "outputs": [
    {
     "name": "stdout",
     "output_type": "stream",
     "text": [
      "0\n",
      "1\n",
      "2\n",
      "3\n"
     ]
    }
   ],
   "source": [
    "for col in df.columns:\n",
    "    print(col)\n"
   ]
  },
  {
   "cell_type": "code",
   "execution_count": 57,
   "metadata": {},
   "outputs": [
    {
     "data": {
      "text/html": [
       "<div>\n",
       "<style scoped>\n",
       "    .dataframe tbody tr th:only-of-type {\n",
       "        vertical-align: middle;\n",
       "    }\n",
       "\n",
       "    .dataframe tbody tr th {\n",
       "        vertical-align: top;\n",
       "    }\n",
       "\n",
       "    .dataframe thead th {\n",
       "        text-align: right;\n",
       "    }\n",
       "</style>\n",
       "<table border=\"1\" class=\"dataframe\">\n",
       "  <thead>\n",
       "    <tr style=\"text-align: right;\">\n",
       "      <th></th>\n",
       "      <th>project</th>\n",
       "      <th>issue_id</th>\n",
       "      <th>issue</th>\n",
       "    </tr>\n",
       "  </thead>\n",
       "  <tbody>\n",
       "    <tr>\n",
       "      <th>0</th>\n",
       "      <td>JIRA and Confluence Upkeeping</td>\n",
       "      <td>PMPM19000-21</td>\n",
       "      <td>Story</td>\n",
       "    </tr>\n",
       "    <tr>\n",
       "      <th>1</th>\n",
       "      <td>JIRA and Confluence Upkeeping</td>\n",
       "      <td>PMPM19000-20</td>\n",
       "      <td>Story</td>\n",
       "    </tr>\n",
       "    <tr>\n",
       "      <th>2</th>\n",
       "      <td>JIRA and Confluence Upkeeping</td>\n",
       "      <td>PMPM19000-19</td>\n",
       "      <td>Story</td>\n",
       "    </tr>\n",
       "    <tr>\n",
       "      <th>3</th>\n",
       "      <td>JIRA and Confluence Upkeeping</td>\n",
       "      <td>PMPM19000-17</td>\n",
       "      <td>Story</td>\n",
       "    </tr>\n",
       "    <tr>\n",
       "      <th>4</th>\n",
       "      <td>JIRA and Confluence Upkeeping</td>\n",
       "      <td>PMPM19000-16</td>\n",
       "      <td>Story</td>\n",
       "    </tr>\n",
       "    <tr>\n",
       "      <th>5</th>\n",
       "      <td>JIRA and Confluence Upkeeping</td>\n",
       "      <td>PMPM19000-15</td>\n",
       "      <td>Story</td>\n",
       "    </tr>\n",
       "    <tr>\n",
       "      <th>6</th>\n",
       "      <td>JIRA and Confluence Upkeeping</td>\n",
       "      <td>PMPM19000-14</td>\n",
       "      <td>Story</td>\n",
       "    </tr>\n",
       "    <tr>\n",
       "      <th>7</th>\n",
       "      <td>JIRA and Confluence Upkeeping</td>\n",
       "      <td>PMPM19000-13</td>\n",
       "      <td>Story</td>\n",
       "    </tr>\n",
       "    <tr>\n",
       "      <th>8</th>\n",
       "      <td>JIRA and Confluence Upkeeping</td>\n",
       "      <td>PMPM19000-11</td>\n",
       "      <td>Story</td>\n",
       "    </tr>\n",
       "    <tr>\n",
       "      <th>9</th>\n",
       "      <td>JIRA and Confluence Upkeeping</td>\n",
       "      <td>PMPM19000-10</td>\n",
       "      <td>Story</td>\n",
       "    </tr>\n",
       "    <tr>\n",
       "      <th>10</th>\n",
       "      <td>JIRA and Confluence Upkeeping</td>\n",
       "      <td>PMPM19000-9</td>\n",
       "      <td>Story</td>\n",
       "    </tr>\n",
       "    <tr>\n",
       "      <th>11</th>\n",
       "      <td>JIRA and Confluence Upkeeping</td>\n",
       "      <td>PMPM19000-8</td>\n",
       "      <td>Story</td>\n",
       "    </tr>\n",
       "    <tr>\n",
       "      <th>12</th>\n",
       "      <td>JIRA and Confluence Upkeeping</td>\n",
       "      <td>PMPM19000-7</td>\n",
       "      <td>Story</td>\n",
       "    </tr>\n",
       "    <tr>\n",
       "      <th>13</th>\n",
       "      <td>JIRA and Confluence Upkeeping</td>\n",
       "      <td>PMPM19000-6</td>\n",
       "      <td>Story</td>\n",
       "    </tr>\n",
       "    <tr>\n",
       "      <th>14</th>\n",
       "      <td>JIRA and Confluence Upkeeping</td>\n",
       "      <td>PMPM19000-5</td>\n",
       "      <td>Story</td>\n",
       "    </tr>\n",
       "    <tr>\n",
       "      <th>15</th>\n",
       "      <td>JIRA and Confluence Upkeeping</td>\n",
       "      <td>PMPM19000-4</td>\n",
       "      <td>Story</td>\n",
       "    </tr>\n",
       "    <tr>\n",
       "      <th>16</th>\n",
       "      <td>JIRA and Confluence Upkeeping</td>\n",
       "      <td>PMPM19000-3</td>\n",
       "      <td>Story</td>\n",
       "    </tr>\n",
       "    <tr>\n",
       "      <th>17</th>\n",
       "      <td>JIRA and Confluence Upkeeping</td>\n",
       "      <td>PMPM19000-2</td>\n",
       "      <td>Story</td>\n",
       "    </tr>\n",
       "    <tr>\n",
       "      <th>18</th>\n",
       "      <td>JIRA and Confluence Upkeeping</td>\n",
       "      <td>PMPM19000-1</td>\n",
       "      <td>Story</td>\n",
       "    </tr>\n",
       "  </tbody>\n",
       "</table>\n",
       "</div>"
      ],
      "text/plain": [
       "                          project      issue_id  issue\n",
       "0   JIRA and Confluence Upkeeping  PMPM19000-21  Story\n",
       "1   JIRA and Confluence Upkeeping  PMPM19000-20  Story\n",
       "2   JIRA and Confluence Upkeeping  PMPM19000-19  Story\n",
       "3   JIRA and Confluence Upkeeping  PMPM19000-17  Story\n",
       "4   JIRA and Confluence Upkeeping  PMPM19000-16  Story\n",
       "5   JIRA and Confluence Upkeeping  PMPM19000-15  Story\n",
       "6   JIRA and Confluence Upkeeping  PMPM19000-14  Story\n",
       "7   JIRA and Confluence Upkeeping  PMPM19000-13  Story\n",
       "8   JIRA and Confluence Upkeeping  PMPM19000-11  Story\n",
       "9   JIRA and Confluence Upkeeping  PMPM19000-10  Story\n",
       "10  JIRA and Confluence Upkeeping   PMPM19000-9  Story\n",
       "11  JIRA and Confluence Upkeeping   PMPM19000-8  Story\n",
       "12  JIRA and Confluence Upkeeping   PMPM19000-7  Story\n",
       "13  JIRA and Confluence Upkeeping   PMPM19000-6  Story\n",
       "14  JIRA and Confluence Upkeeping   PMPM19000-5  Story\n",
       "15  JIRA and Confluence Upkeeping   PMPM19000-4  Story\n",
       "16  JIRA and Confluence Upkeeping   PMPM19000-3  Story\n",
       "17  JIRA and Confluence Upkeeping   PMPM19000-2  Story\n",
       "18  JIRA and Confluence Upkeeping   PMPM19000-1  Story"
      ]
     },
     "execution_count": 57,
     "metadata": {},
     "output_type": "execute_result"
    }
   ],
   "source": [
    "df"
   ]
  },
  {
   "cell_type": "code",
   "execution_count": 64,
   "metadata": {},
   "outputs": [],
   "source": [
    "df = pd.DataFrame(con.search_issues(\"project = 'CECE19004'\"))"
   ]
  },
  {
   "cell_type": "code",
   "execution_count": 86,
   "metadata": {},
   "outputs": [
    {
     "data": {
      "text/html": [
       "<div>\n",
       "<style scoped>\n",
       "    .dataframe tbody tr th:only-of-type {\n",
       "        vertical-align: middle;\n",
       "    }\n",
       "\n",
       "    .dataframe tbody tr th {\n",
       "        vertical-align: top;\n",
       "    }\n",
       "\n",
       "    .dataframe thead th {\n",
       "        text-align: right;\n",
       "    }\n",
       "</style>\n",
       "<table border=\"1\" class=\"dataframe\">\n",
       "  <thead>\n",
       "    <tr style=\"text-align: right;\">\n",
       "      <th></th>\n",
       "      <th>Story Type</th>\n",
       "      <th>Issue Count</th>\n",
       "    </tr>\n",
       "  </thead>\n",
       "  <tbody>\n",
       "    <tr>\n",
       "      <th>Story</th>\n",
       "      <td>Story</td>\n",
       "      <td>33</td>\n",
       "    </tr>\n",
       "    <tr>\n",
       "      <th>Bug</th>\n",
       "      <td>Bug</td>\n",
       "      <td>12</td>\n",
       "    </tr>\n",
       "    <tr>\n",
       "      <th>Sub-task</th>\n",
       "      <td>Sub-task</td>\n",
       "      <td>5</td>\n",
       "    </tr>\n",
       "  </tbody>\n",
       "</table>\n",
       "</div>"
      ],
      "text/plain": [
       "         Story Type  Issue Count\n",
       "Story         Story           33\n",
       "Bug             Bug           12\n",
       "Sub-task   Sub-task            5"
      ]
     },
     "execution_count": 86,
     "metadata": {},
     "output_type": "execute_result"
    }
   ],
   "source": [
    "a=pd.DataFrame(df['issue'].value_counts())\n",
    "a['Story Type']=a.index\n",
    "a['Issue Count']=a['issue']\n",
    "a=a.drop('issue', axis=1)\n",
    "a"
   ]
  },
  {
   "cell_type": "code",
   "execution_count": 157,
   "metadata": {},
   "outputs": [
    {
     "data": {
      "text/plain": [
       "''"
      ]
     },
     "execution_count": 157,
     "metadata": {},
     "output_type": "execute_result"
    }
   ],
   "source": [
    "pd.DataFrame([''],columns=['Sprint'])['Sprint'][0]"
   ]
  },
  {
   "cell_type": "code",
   "execution_count": null,
   "metadata": {},
   "outputs": [],
   "source": []
  }
 ],
 "metadata": {
  "kernelspec": {
   "display_name": "Python 3",
   "language": "python",
   "name": "python3"
  },
  "language_info": {
   "codemirror_mode": {
    "name": "ipython",
    "version": 3
   },
   "file_extension": ".py",
   "mimetype": "text/x-python",
   "name": "python",
   "nbconvert_exporter": "python",
   "pygments_lexer": "ipython3",
   "version": "3.6.8"
  }
 },
 "nbformat": 4,
 "nbformat_minor": 2
}
